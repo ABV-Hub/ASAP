{
 "cells": [
  {
   "cell_type": "markdown",
   "metadata": {},
   "source": [
    "# Anomaly Screening Applying Pseudo-wells (ASAP)\n",
    "\n",
    "Stavanger Machine Learning Hackathon 18-19 September, 2018.\n",
    "\n",
    "Project page: <https://events.agilescientific.com/project/asap>\n",
    "\n",
    "## assembling Lukas' notebooks\n",
    "\n",
    "\n",
    "* ASAP_3 = seismic data loading and preprocessing: `Far Stack Preprocessing.ipynb`, `Near Stack Preprocessing.ipynb` to create the flattened horizon dataset.\n",
    "\n",
    "* ASAP_4 = unsupervised cluster `Unsupervised Cluster Analysis of Glitne Near-Far Offset Data and Fluid Factor.ipynb`\n",
    "\n",
    "* ASAP_5: UMAP analysis, VAE (Variational Autoencoder): `UMAP Analysis and Fluid Factor.ipynb`, `AVO-VAE-Step49.ipynb` to perform analysis of Variational Autoencoder Output. To create Autoencoder architecture use `VAE Architecture Test.ipynb`. Running training VAE on preprocessed data: `train.py`. Model trained using `vae.py` results output by using `vae_synthetics.py`. (Epoch used was epoch 49. Ran with default settings.)\n",
    "\n",
    "Original code for VAE modified form https://github.com/wanglouis49/pytorch-autoencoders/blob/master/conv_vae.py.\n",
    "\n",
    "\n",
    "\n",
    "## To-do\n",
    "\n",
    "* (...)"
   ]
  }
 ],
 "metadata": {
  "kernelspec": {
   "display_name": "Python 3",
   "language": "python",
   "name": "python3"
  },
  "language_info": {
   "codemirror_mode": {
    "name": "ipython",
    "version": 3
   },
   "file_extension": ".py",
   "mimetype": "text/x-python",
   "name": "python",
   "nbconvert_exporter": "python",
   "pygments_lexer": "ipython3",
   "version": "3.7.2"
  }
 },
 "nbformat": 4,
 "nbformat_minor": 2
}
